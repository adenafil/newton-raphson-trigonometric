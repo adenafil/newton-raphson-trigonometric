{
  "nbformat": 4,
  "nbformat_minor": 0,
  "metadata": {
    "colab": {
      "provenance": [],
      "authorship_tag": "ABX9TyPkI2NOPxctm7ai+qtwvJCc",
      "include_colab_link": true
    },
    "kernelspec": {
      "name": "python3",
      "display_name": "Python 3"
    },
    "language_info": {
      "name": "python"
    }
  },
  "cells": [
    {
      "cell_type": "markdown",
      "metadata": {
        "id": "view-in-github",
        "colab_type": "text"
      },
      "source": [
        "<a href=\"https://colab.research.google.com/github/adenafil/newton-raphson-trigonometric/blob/main/solution.ipynb\" target=\"_parent\"><img src=\"https://colab.research.google.com/assets/colab-badge.svg\" alt=\"Open In Colab\"/></a>"
      ]
    },
    {
      "cell_type": "markdown",
      "source": [
        "Methode Newton Raphson Fungsi Trigonometri"
      ],
      "metadata": {
        "id": "oP29s-xeIiuT"
      }
    },
    {
      "cell_type": "code",
      "execution_count": null,
      "metadata": {
        "colab": {
          "base_uri": "https://localhost:8080/"
        },
        "id": "hBfo6Z5kzU6Z",
        "outputId": "50882320-c5f4-48f9-a8fe-78f8d182899d"
      },
      "outputs": [
        {
          "output_type": "stream",
          "name": "stdout",
          "text": [
            "Masukan nilai awal dari x : \n",
            "1\n",
            "Masukan max jumlah iterasi : \n",
            "4\n",
            "Iteration 1: x = 0.6551, f(x) = -0.045861454923703415, f'(x) = -0.20701299178781163 .\n",
            "Iteration 2: x = 0.4336, f(x) = -0.01345962925995503, f'(x) = -0.09254087206397132 .\n",
            "Iteration 3: x = 0.2882, f(x) = -0.003973076182154034, f'(x) = -0.04124296311471887 .\n",
            "Iteration 4: x = 0.1919, f(x) = -0.0011756389895737906, f'(x) = -0.018356369084399082 .\n",
            "hasil iterasi sebanyak 4 dari perhitungan f(x) = sin(x) - x = 0.1919\n"
          ]
        }
      ],
      "source": [
        "# Import math\n",
        "import math\n",
        "\n",
        "# method untuk generator hasil dari f(x) = sin(x) - x\n",
        "def f(x):\n",
        "  return math.sin(x) - x;\n",
        "\n",
        "# method untuk generator hasil dari f'(x) = cos(x) - 1\n",
        "def derivativeF(x):\n",
        "  return math.cos(x) - 1;\n",
        "\n",
        "# Method untuk menghitung iterasi dengan methode newton raphson\n",
        "def newtonRaphson(x0, iterasi):\n",
        "  # deklarasi iterasi\n",
        "  n = 0\n",
        "  # looping hingga n != 0\n",
        "  while n != iterasi:\n",
        "    # rumus newton Raphson\n",
        "    x1 = x0 - f(x0)/derivativeF(x0)\n",
        "    #membuat bilangan desimal menjadi 4 digit belakang\n",
        "    x1 = round(x1, 4)\n",
        "    # update nilai x0 dengan hasil perhitungan x1\n",
        "    x0 = x1\n",
        "    # melakuakn increment\n",
        "    n += 1\n",
        "    # console.log hasil\n",
        "    print(\n",
        "        f\"Iteration {n}: x = {x1}, f(x) = {f(x1)}, f'(x) = {derivativeF(x0)} .\"\n",
        "        )\n",
        "  # return nilai hasil iterasi\n",
        "  return x1\n",
        "\n",
        "# Deklarasi nilai awal\n",
        "print(\"Masukan nilai awal dari x : \");\n",
        "x0 = int(input());\n",
        "# Deklarasi nilai batas iterasi\n",
        "print(\"Masukan max jumlah iterasi : \");\n",
        "iterasi = int(input());\n",
        "# invoke atau memanggil method dengan menampung ke result\n",
        "result = newtonRaphson(x0, iterasi)\n",
        "# console.log hasil\n",
        "print(f\"hasil iterasi sebanyak {iterasi} dari perhitungan f(x) = sin(x) - x = {result}\")"
      ]
    },
    {
      "cell_type": "markdown",
      "source": [],
      "metadata": {
        "id": "0TDa8M_vIhm2"
      }
    }
  ]
}