{
  "nbformat": 4,
  "nbformat_minor": 0,
  "metadata": {
    "colab": {
      "provenance": [],
      "include_colab_link": true
    },
    "kernelspec": {
      "name": "python3",
      "display_name": "Python 3"
    },
    "language_info": {
      "name": "python"
    }
  },
  "cells": [
    {
      "cell_type": "markdown",
      "metadata": {
        "id": "view-in-github",
        "colab_type": "text"
      },
      "source": [
        "<a href=\"https://colab.research.google.com/github/adenafil/newton-raphson-trigonometric/blob/main/solution.ipynb\" target=\"_parent\"><img src=\"https://colab.research.google.com/assets/colab-badge.svg\" alt=\"Open In Colab\"/></a>"
      ]
    },
    {
      "cell_type": "markdown",
      "source": [
        "Methode Newton Raphson Fungsi Trigonometri"
      ],
      "metadata": {
        "id": "oP29s-xeIiuT"
      }
    },
    {
      "cell_type": "markdown",
      "source": [
        "Soal 1"
      ],
      "metadata": {
        "id": "j-mqz2U0qq6y"
      }
    },
    {
      "cell_type": "code",
      "execution_count": null,
      "metadata": {
        "colab": {
          "base_uri": "https://localhost:8080/"
        },
        "id": "hBfo6Z5kzU6Z",
        "outputId": "399f71d5-3214-45dc-d505-e8558561f45a"
      },
      "outputs": [
        {
          "output_type": "stream",
          "name": "stdout",
          "text": [
            "Masukan nilai awal dari x : \n",
            "1\n",
            "Masukan max jumlah iterasi : \n",
            "50\n",
            "Iteration 1: x = 0.6551, f(x) = -0.045861454923703415, f'(x) = -0.20701299178781163 .\n",
            "Iteration 2: x = 0.4336, f(x) = -0.01345962925995503, f'(x) = -0.09254087206397132 .\n",
            "Iteration 3: x = 0.2882, f(x) = -0.003973076182154034, f'(x) = -0.04124296311471887 .\n",
            "Iteration 4: x = 0.1919, f(x) = -0.0011756389895737906, f'(x) = -0.018356369084399082 .\n",
            "Iteration 5: x = 0.1279, f(x) = -0.0003484216698101672, f'(x) = -0.008168061178972952 .\n",
            "Iteration 6: x = 0.0852, f(x) = -0.00010304096196568635, f'(x) = -0.0036273249619502845 .\n",
            "Iteration 7: x = 0.0568, f(x) = -3.053681229615163e-05, f'(x) = -0.0016126863539481784 .\n",
            "Iteration 8: x = 0.0379, f(x) = -9.072671538344623e-06, f'(x) = -0.0007181190343791277 .\n",
            "Iteration 9: x = 0.0253, f(x) = -2.6989597863603942e-06, f'(x) = -0.0003200279288971819 .\n",
            "Iteration 10: x = 0.0169, f(x) = -8.044566785388174e-07, f'(x) = -0.00014280160115431872 .\n",
            "Iteration 11: x = 0.0113, f(x) = -2.40481297975742e-07, f'(x) = -6.38443206388839e-05 .\n",
            "Iteration 12: x = 0.0075, f(x) = -7.03123022461477e-08, f'(x) = -2.8124868164280947e-05 .\n",
            "Iteration 13: x = 0.005, f(x) = -2.0833307291974468e-08, f'(x) = -1.2499973958357558e-05 .\n",
            "Iteration 14: x = 0.0033, f(x) = -5.9894967388562925e-09, f'(x) = -5.444995058612179e-06 .\n",
            "Iteration 15: x = 0.0022, f(x) = -1.7746662373148425e-09, f'(x) = -2.4199990239504032e-06 .\n",
            "Iteration 16: x = 0.0015, f(x) = -5.624999368201988e-10, f'(x) = -1.1249997891038532e-06 .\n",
            "Iteration 17: x = 0.001, f(x) = -1.6666665833900418e-10, f'(x) = -4.999999583255033e-07 .\n",
            "Iteration 18: x = 0.0007, f(x) = -5.716666528175762e-11, f'(x) = -2.449999899623023e-07 .\n",
            "Iteration 19: x = 0.0005, f(x) = -2.0833333105527152e-11, f'(x) = -1.24999997352937e-07 .\n",
            "Iteration 20: x = 0.0003, f(x) = -4.499999982018887e-12, f'(x) = -4.4999999615491504e-08 .\n",
            "Iteration 21: x = 0.0002, f(x) = -1.3333333189705782e-12, f'(x) = -1.999999987845058e-08 .\n",
            "Iteration 22: x = 0.0001, f(x) = -1.6666666148319048e-13, f'(x) = -4.999999969612645e-09 .\n",
            "Iteration 23: x = 0.0001, f(x) = -1.6666666148319048e-13, f'(x) = -4.999999969612645e-09 .\n",
            "Iteration 24: x = 0.0001, f(x) = -1.6666666148319048e-13, f'(x) = -4.999999969612645e-09 .\n",
            "Iteration 25: x = 0.0001, f(x) = -1.6666666148319048e-13, f'(x) = -4.999999969612645e-09 .\n",
            "Iteration 26: x = 0.0001, f(x) = -1.6666666148319048e-13, f'(x) = -4.999999969612645e-09 .\n",
            "Iteration 27: x = 0.0001, f(x) = -1.6666666148319048e-13, f'(x) = -4.999999969612645e-09 .\n",
            "Iteration 28: x = 0.0001, f(x) = -1.6666666148319048e-13, f'(x) = -4.999999969612645e-09 .\n",
            "Iteration 29: x = 0.0001, f(x) = -1.6666666148319048e-13, f'(x) = -4.999999969612645e-09 .\n",
            "Iteration 30: x = 0.0001, f(x) = -1.6666666148319048e-13, f'(x) = -4.999999969612645e-09 .\n",
            "Iteration 31: x = 0.0001, f(x) = -1.6666666148319048e-13, f'(x) = -4.999999969612645e-09 .\n",
            "Iteration 32: x = 0.0001, f(x) = -1.6666666148319048e-13, f'(x) = -4.999999969612645e-09 .\n",
            "Iteration 33: x = 0.0001, f(x) = -1.6666666148319048e-13, f'(x) = -4.999999969612645e-09 .\n",
            "Iteration 34: x = 0.0001, f(x) = -1.6666666148319048e-13, f'(x) = -4.999999969612645e-09 .\n",
            "Iteration 35: x = 0.0001, f(x) = -1.6666666148319048e-13, f'(x) = -4.999999969612645e-09 .\n",
            "Iteration 36: x = 0.0001, f(x) = -1.6666666148319048e-13, f'(x) = -4.999999969612645e-09 .\n",
            "Iteration 37: x = 0.0001, f(x) = -1.6666666148319048e-13, f'(x) = -4.999999969612645e-09 .\n",
            "Iteration 38: x = 0.0001, f(x) = -1.6666666148319048e-13, f'(x) = -4.999999969612645e-09 .\n",
            "Iteration 39: x = 0.0001, f(x) = -1.6666666148319048e-13, f'(x) = -4.999999969612645e-09 .\n",
            "Iteration 40: x = 0.0001, f(x) = -1.6666666148319048e-13, f'(x) = -4.999999969612645e-09 .\n",
            "Iteration 41: x = 0.0001, f(x) = -1.6666666148319048e-13, f'(x) = -4.999999969612645e-09 .\n",
            "Iteration 42: x = 0.0001, f(x) = -1.6666666148319048e-13, f'(x) = -4.999999969612645e-09 .\n",
            "Iteration 43: x = 0.0001, f(x) = -1.6666666148319048e-13, f'(x) = -4.999999969612645e-09 .\n",
            "Iteration 44: x = 0.0001, f(x) = -1.6666666148319048e-13, f'(x) = -4.999999969612645e-09 .\n",
            "Iteration 45: x = 0.0001, f(x) = -1.6666666148319048e-13, f'(x) = -4.999999969612645e-09 .\n",
            "Iteration 46: x = 0.0001, f(x) = -1.6666666148319048e-13, f'(x) = -4.999999969612645e-09 .\n",
            "Iteration 47: x = 0.0001, f(x) = -1.6666666148319048e-13, f'(x) = -4.999999969612645e-09 .\n",
            "Iteration 48: x = 0.0001, f(x) = -1.6666666148319048e-13, f'(x) = -4.999999969612645e-09 .\n",
            "Iteration 49: x = 0.0001, f(x) = -1.6666666148319048e-13, f'(x) = -4.999999969612645e-09 .\n",
            "Iteration 50: x = 0.0001, f(x) = -1.6666666148319048e-13, f'(x) = -4.999999969612645e-09 .\n",
            "hasil iterasi sebanyak 50 dari perhitungan f(x) = sin(x) - x = 0.0001\n"
          ]
        }
      ],
      "source": [
        "# Import math\n",
        "import math\n",
        "\n",
        "# method untuk generator hasil dari f(x) = sin(x) - x\n",
        "def f(x):\n",
        "  return math.sin(x) - x;\n",
        "\n",
        "# method untuk generator hasil dari f'(x) = cos(x) - 1\n",
        "def derivativeF(x):\n",
        "  return math.cos(x) - 1;\n",
        "\n",
        "# Method untuk menghitung iterasi dengan methode newton raphson\n",
        "def newtonRaphson(x0, iterasi):\n",
        "  # deklarasi iterasi\n",
        "  n = 0\n",
        "  # looping hingga n != 0\n",
        "  while n != iterasi:\n",
        "    # rumus newton Raphson\n",
        "    x1 = x0 - f(x0)/derivativeF(x0)\n",
        "    #membuat bilangan desimal menjadi 4 digit belakang\n",
        "    x1 = round(x1, 4)\n",
        "    # update nilai x0 dengan hasil perhitungan x1\n",
        "    x0 = x1\n",
        "    # melakuakn increment\n",
        "    n += 1\n",
        "    # console.log hasil\n",
        "    print(\n",
        "        f\"Iteration {n}: x = {x1}, f(x) = {f(x1)}, f'(x) = {derivativeF(x0)} .\"\n",
        "        )\n",
        "  # return nilai hasil iterasi\n",
        "  return x1\n",
        "\n",
        "#Deklarasi nilai awal\n",
        "print(\"Masukan nilai awal dari x : \");\n",
        "x0 = int(input());\n",
        "# Deklarasi nilai batas iterasi\n",
        "print(\"Masukan max jumlah iterasi : \");\n",
        "iterasi = int(input());\n",
        "# invoke atau memanggil method dengan menampung ke result\n",
        "result = newtonRaphson(x0, iterasi)\n",
        "# console.log hasil\n",
        "print(f\"hasil iterasi sebanyak {iterasi} dari perhitungan f(x) = sin(x) - x = {result}\")"
      ]
    },
    {
      "cell_type": "markdown",
      "source": [
        "Soal 2. Menggunakan Metode Secant dari fungsi logaritmik"
      ],
      "metadata": {
        "id": "uHYt0qAlqp0t"
      }
    },
    {
      "cell_type": "code",
      "source": [
        "import math\n",
        "\n",
        "def fungsi(x):\n",
        "    return math.log(x**2 + 1) - 3\n",
        "\n",
        "def metode_secant(x0, x1, iterasi):\n",
        "    print(\"Nilai awal fungsi pada x0: {:.6f}\".format(fungsi(x0)))\n",
        "    print(\"Nilai awal fungsi pada x1: {:.6f}\".format(fungsi(x1)))\n",
        "    print(\"\\nIterasi\\t  x0\\t\\t  x1\\t\\t  x2\\t\\t  f(x2)\")\n",
        "    print(\"-\" * 69)\n",
        "\n",
        "    for i in range(iterasi):\n",
        "        f_x0 = fungsi(x0)\n",
        "        f_x1 = fungsi(x1)\n",
        "\n",
        "        x2 = x1 - (f_x1 * (x1 - x0)) / (f_x1 - f_x0)\n",
        "        f_x2 = fungsi(x2)\n",
        "\n",
        "        print(\"{:2d}\\t {:.6f}\\t {:.6f}\\t {:.6f}\\t {:.6f}\".format(i+1, x0, x1, x2, f_x2))\n",
        "\n",
        "        x0, x1 = x1, x2\n",
        "\n",
        "    return x2\n",
        "\n",
        "# Tebakan awal\n",
        "x0 = 1\n",
        "x1 = 2\n",
        "\n",
        "# Jumlah iterasi yang diinginkan\n",
        "jumlah_iterasi = 5\n",
        "\n",
        "# Hasil akhir\n",
        "hasil_akhir = metode_secant(x0, x1, jumlah_iterasi)\n",
        "print(\"\\nAkar persamaan: {:.6f}\".format(hasil_akhir))\n"
      ],
      "metadata": {
        "colab": {
          "base_uri": "https://localhost:8080/"
        },
        "id": "AiPP6PoXqmzb",
        "outputId": "844b124b-fe51-42f5-dc5b-9e711dd6120d"
      },
      "execution_count": null,
      "outputs": [
        {
          "output_type": "stream",
          "name": "stdout",
          "text": [
            "Nilai awal fungsi pada x0: -2.306853\n",
            "Nilai awal fungsi pada x1: -1.390562\n",
            "\n",
            "Iterasi\t  x0\t\t  x1\t\t  x2\t\t  f(x2)\n",
            "---------------------------------------------------------------------\n",
            " 1\t 1.000000\t 2.000000\t 3.517599\t -0.406725\n",
            " 2\t 2.000000\t 3.517599\t 4.144984\t -0.099629\n",
            " 3\t 3.517599\t 4.144984\t 4.348522\t -0.008796\n",
            " 4\t 4.144984\t 4.348522\t 4.368232\t -0.000204\n",
            " 5\t 4.348522\t 4.368232\t 4.368699\t -0.000000\n",
            "\n",
            "Akar persamaan: 4.368699\n"
          ]
        }
      ]
    },
    {
      "cell_type": "markdown",
      "source": [
        "Soal 3 menggunakan polinomial derajat 3 dengan metode akar ganda faktorisasi"
      ],
      "metadata": {
        "id": "oUV4do8fK3rR"
      }
    },
    {
      "cell_type": "code",
      "source": [
        "import sympy as sp\n",
        "\n",
        "# Iterasi ke-1\n",
        "A0 = 8\n",
        "A1 = -4\n",
        "A2 = -2\n",
        "\n",
        "b0 = 0\n",
        "a1 = A2 - b0\n",
        "a0 = A1 - a1 * b0\n",
        "\n",
        "print(f\"Iterasi 1: b0 = {b0}, a1 = {a1}, a0 = {a0}\")\n",
        "\n",
        "# Iterasi ke-2\n",
        "A0 = 8\n",
        "A1 = -4\n",
        "A2 = -2\n",
        "\n",
        "b1 = A0 / a0\n",
        "a2 = A2 - b1\n",
        "a1 = A1 - a2 * b1\n",
        "\n",
        "print(f\"Iterasi 2: b0 = {b1}, a1 = {a2}, a0 = {a1}\")\n",
        "\n",
        "# Iterasi ke-3\n",
        "A0 = 8\n",
        "A1 = -4\n",
        "A2 = -2\n",
        "\n",
        "b2 = A0 / a1\n",
        "a3 = A2 - b2\n",
        "a2 = A1 - a3 * b2\n",
        "\n",
        "print(f\"Iterasi 3: b0 = {b2}, a1 = {a3}, a0 = {a2}\")\n",
        "\n",
        "# Menggunakan faktorisasi pada hasil akhir\n",
        "polynomial = A0 + A1 * sp.symbols('x') + A2 * sp.symbols('x')**2\n",
        "faktorisasi_akhir = sp.factor(polynomial)\n",
        "\n",
        "# Menyederhanakan faktorisasi\n",
        "faktorisasi_sederhana = sp.simplify(faktorisasi_akhir)\n",
        "\n",
        "print(f\"Faktorisasi pada hasil akhir: {faktorisasi_akhir}\")\n",
        "print(f\"Faktorisasi sederhana: {faktorisasi_sederhana}\")"
      ],
      "metadata": {
        "id": "0hROm3KuLChd",
        "outputId": "7716fad1-ba76-422b-b2ef-1d721a1b40b6",
        "colab": {
          "base_uri": "https://localhost:8080/"
        }
      },
      "execution_count": null,
      "outputs": [
        {
          "output_type": "stream",
          "name": "stdout",
          "text": [
            "Iterasi 1: b0 = 0, a1 = -2, a0 = -4\n",
            "Iterasi 2: b0 = -2.0, a1 = 0.0, a0 = -4.0\n",
            "Iterasi 3: b0 = -2.0, a1 = 0.0, a0 = -4.0\n",
            "Faktorisasi pada hasil akhir: -2*(x**2 + 2*x - 4)\n",
            "Faktorisasi sederhana: -2*x**2 - 4*x + 8\n"
          ]
        }
      ]
    }
  ]
}