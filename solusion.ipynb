{
 "cells": [
  {
   "cell_type": "code",
   "execution_count": null,
   "metadata": {},
   "outputs": [],
   "source": [
    "# Import math\n",
    "import math\n",
    "\n",
    "# method untuk generator hasil dari f(x) = sin(x) - x\n",
    "def f(x):\n",
    "  return math.sin(x) - x;\n",
    "\n",
    "# method untuk generator hasil dari f'(x) = cos(x) - 1\n",
    "def derivativeF(x):\n",
    "  return math.cos(x) - 1;\n",
    "\n",
    "# Method untuk menghitung iterasi dengan methode newton raphson\n",
    "def newtonRaphson(x0, iterasi):\n",
    "  # deklarasi iterasi\n",
    "  n = 0\n",
    "  # looping hingga n != 0\n",
    "  while n != iterasi:\n",
    "    # rumus newton Raphson\n",
    "    x1 = x0 - f(x0)/derivativeF(x0)\n",
    "    #membuat bilangan desimal menjadi 4 digit belakang\n",
    "    x1 = round(x1, 4)\n",
    "    # update nilai x0 dengan hasil perhitungan x1\n",
    "    x0 = x1\n",
    "    # melakuakn increment\n",
    "    n += 1\n",
    "    # console.log hasil\n",
    "    print(\n",
    "        f\"Iteration {n}: x = {x1}, f(x) = {f(x1)}, f'(x) = {derivativeF(x0)} .\"\n",
    "        )\n",
    "  # return nilai hasil iterasi \n",
    "  return x1\n",
    "\n",
    "# Deklarasi nilai awal\n",
    "print(\"Masukan nilai awal dari x : \");\n",
    "x0 = int(input());\n",
    "# Deklarasi nilai batas iterasi\n",
    "print(\"Masukan max jumlah iterasi : \");\n",
    "iterasi = int(input());\n",
    "# invoke atau memanggil method dengan menampung ke result\n",
    "result = newtonRaphson(x0, iterasi)\n",
    "# console.log hasil\n",
    "print(f\"hasil iterasi sebanyak {iterasi} dari perhitungan f(x) = sin(x) - x = {result}\")"
   ]
  },
  {
   "cell_type": "markdown",
   "metadata": {},
   "source": []
  }
 ],
 "metadata": {
  "language_info": {
   "name": "python"
  }
 },
 "nbformat": 4,
 "nbformat_minor": 2
}
